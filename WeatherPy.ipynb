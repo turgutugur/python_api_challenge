{
 "cells": [
  {
   "cell_type": "markdown",
   "metadata": {},
   "source": [
    "# WeatherPy\n",
    "----\n",
    "\n",
    "#### Note\n",
    "* Instructions have been included for each segment. You do not have to follow them exactly, but they are included to help you think through the steps."
   ]
  },
  {
   "cell_type": "code",
   "execution_count": 1,
   "metadata": {},
   "outputs": [],
   "source": [
    "#! pip install citipy"
   ]
  },
  {
   "cell_type": "code",
   "execution_count": 48,
   "metadata": {
    "scrolled": true
   },
   "outputs": [],
   "source": [
    "# Dependencies and Setup\n",
    "import matplotlib.pyplot as plt\n",
    "import pandas as pd\n",
    "import numpy as np\n",
    "import requests\n",
    "import json\n",
    "import time\n",
    "import scipy.stats as st\n",
    "from scipy.stats import linregress\n",
    "\n",
    "# Import API key\n",
    "from api_keys import weather_api_key\n",
    "\n",
    "# Incorporated citipy to determine city based on latitude and longitude\n",
    "from citipy import citipy\n",
    "\n",
    "# Output File (CSV)\n",
    "output_data_file = \"output_data/cities.csv\"\n",
    "\n",
    "# Range of latitudes and longitudes\n",
    "lat_range = (-90, 90)\n",
    "lng_range = (-180, 180)"
   ]
  },
  {
   "cell_type": "markdown",
   "metadata": {},
   "source": [
    "## Generate Cities List"
   ]
  },
  {
   "cell_type": "code",
   "execution_count": 49,
   "metadata": {},
   "outputs": [
    {
     "data": {
      "text/plain": [
       "618"
      ]
     },
     "execution_count": 49,
     "metadata": {},
     "output_type": "execute_result"
    }
   ],
   "source": [
    "# List for holding lat_lngs and cities\n",
    "lat_lngs = []\n",
    "cities = []\n",
    "\n",
    "# Create a set of random lat and lng combinations\n",
    "lats = np.random.uniform(lat_range[0], lat_range[1], size=1500)\n",
    "lngs = np.random.uniform(lng_range[0], lng_range[1], size=1500)\n",
    "lat_lngs = zip(lats, lngs)\n",
    "\n",
    "# Identify nearest city for each lat, lng combination\n",
    "for lat_lng in lat_lngs:\n",
    "    city = citipy.nearest_city(lat_lng[0], lat_lng[1]).city_name\n",
    "    \n",
    "    # If the city is unique, then add it to a our cities list\n",
    "    if city not in cities:\n",
    "        cities.append(city)\n",
    "\n",
    "# Print the city count to confirm sufficient count\n",
    "len(cities)"
   ]
  },
  {
   "cell_type": "code",
   "execution_count": 4,
   "metadata": {},
   "outputs": [],
   "source": [
    "city_list = []\n",
    "cloud_list = []\n",
    "country_list = []\n",
    "date_list = []\n",
    "humidity_list = []\n",
    "lat_list = []\n",
    "lng_list = []\n",
    "max_temp_list = []\n",
    "wind_speed_list = []\n",
    "index_counter = 0\n",
    "set_counter = 1\n"
   ]
  },
  {
   "cell_type": "markdown",
   "metadata": {},
   "source": [
    "# Perform API Calls\n",
    "* Perform a weather check on each city using a series of successive API calls.\n",
    "* Include a print log of each city as it'sbeing processed (with the city number and city name).\n",
    "\n",
    "> **HINT:** The OpenWeatherMap API only allows 60 calls per minute under their free plan. Try using `time.sleep(60)` after each set of 50 cities to avoid API errors due to large calls."
   ]
  },
  {
   "cell_type": "code",
   "execution_count": 83,
   "metadata": {
    "scrolled": true
   },
   "outputs": [
    {
     "name": "stdout",
     "output_type": "stream",
     "text": [
      "Beginning Data Retrieval \n",
      "------------------------------\n",
      "Processing Record 47 of Set 2 : tessalit\n",
      "City not found. Skipping...\n",
      "Processing Record 48 of Set 2 : hilo\n",
      "Processing Record 49 of Set 2 : wana\n",
      "Processing Record 50 of Set 2 : mataura\n",
      "Processing Record 0 of Set 3 : beringovskiy\n",
      "Processing Record 1 of Set 3 : tilichiki\n",
      "Processing Record 2 of Set 3 : fairbanks\n",
      "Processing Record 3 of Set 3 : codrington\n",
      "Processing Record 4 of Set 3 : welahan\n",
      "Processing Record 5 of Set 3 : kodiak\n",
      "Processing Record 6 of Set 3 : port macquarie\n",
      "Processing Record 7 of Set 3 : sinnamary\n",
      "Processing Record 8 of Set 3 : chokurdakh\n",
      "Processing Record 9 of Set 3 : ushuaia\n",
      "Processing Record 10 of Set 3 : khovu-aksy\n",
      "Processing Record 11 of Set 3 : shache\n",
      "Processing Record 12 of Set 3 : punta arenas\n",
      "Processing Record 13 of Set 3 : mezen\n",
      "City not found. Skipping...\n",
      "City not found. Skipping...\n",
      "Processing Record 14 of Set 3 : new norfolk\n",
      "Processing Record 15 of Set 3 : kapaa\n",
      "City not found. Skipping...\n",
      "Processing Record 16 of Set 3 : vestmannaeyjar\n",
      "Processing Record 17 of Set 3 : aswan\n",
      "City not found. Skipping...\n",
      "Processing Record 18 of Set 3 : mar del plata\n",
      "Processing Record 19 of Set 3 : port elizabeth\n",
      "City not found. Skipping...\n",
      "Processing Record 20 of Set 3 : hasaki\n",
      "City not found. Skipping...\n",
      "Processing Record 21 of Set 3 : ostrovnoy\n",
      "Processing Record 22 of Set 3 : daitari\n",
      "Processing Record 23 of Set 3 : bredasdorp\n",
      "Processing Record 24 of Set 3 : tual\n",
      "Processing Record 25 of Set 3 : cape town\n",
      "Processing Record 26 of Set 3 : rikitea\n",
      "Processing Record 27 of Set 3 : bengkulu\n",
      "Processing Record 28 of Set 3 : diffa\n",
      "City not found. Skipping...\n",
      "Processing Record 29 of Set 3 : busselton\n",
      "Processing Record 30 of Set 3 : norman wells\n",
      "Processing Record 31 of Set 3 : tasiilaq\n",
      "Processing Record 32 of Set 3 : upernavik\n",
      "Processing Record 33 of Set 3 : timra\n",
      "City not found. Skipping...\n",
      "Processing Record 34 of Set 3 : najran\n",
      "Processing Record 35 of Set 3 : marawi\n",
      "Processing Record 36 of Set 3 : port blair\n",
      "Processing Record 37 of Set 3 : puerto escondido\n",
      "Processing Record 38 of Set 3 : faanui\n",
      "Processing Record 39 of Set 3 : neijiang\n",
      "Processing Record 40 of Set 3 : khatanga\n",
      "Processing Record 41 of Set 3 : hermanus\n",
      "Processing Record 42 of Set 3 : kholm\n",
      "Processing Record 43 of Set 3 : lebu\n",
      "Processing Record 44 of Set 3 : hobart\n",
      "Processing Record 45 of Set 3 : san giovanni in fiore\n",
      "Processing Record 46 of Set 3 : hammerfest\n",
      "Processing Record 47 of Set 3 : cidreira\n",
      "Processing Record 48 of Set 3 : hithadhoo\n",
      "Processing Record 49 of Set 3 : puerto ayora\n",
      "Processing Record 50 of Set 3 : arraial do cabo\n",
      "Processing Record 0 of Set 4 : hofn\n",
      "Processing Record 1 of Set 4 : bilma\n",
      "Processing Record 2 of Set 4 : geraldton\n",
      "Processing Record 3 of Set 4 : ormara\n",
      "Processing Record 4 of Set 4 : atuona\n",
      "Processing Record 5 of Set 4 : vao\n",
      "Processing Record 6 of Set 4 : avarua\n",
      "Processing Record 7 of Set 4 : farafangana\n",
      "Processing Record 8 of Set 4 : isangel\n",
      "Processing Record 9 of Set 4 : coquimbo\n",
      "Processing Record 10 of Set 4 : seoul\n",
      "Processing Record 11 of Set 4 : port alfred\n",
      "Processing Record 12 of Set 4 : karratha\n",
      "Processing Record 13 of Set 4 : albany\n",
      "Processing Record 14 of Set 4 : turgenevo\n",
      "Processing Record 15 of Set 4 : saint george\n",
      "Processing Record 16 of Set 4 : aloleng\n",
      "Processing Record 17 of Set 4 : miri\n",
      "Processing Record 18 of Set 4 : flagstaff\n",
      "Processing Record 19 of Set 4 : butaritari\n",
      "Processing Record 20 of Set 4 : kruisfontein\n",
      "Processing Record 21 of Set 4 : sioux lookout\n",
      "Processing Record 22 of Set 4 : farah\n",
      "Processing Record 23 of Set 4 : bambous virieux\n",
      "Processing Record 24 of Set 4 : kirakira\n",
      "Processing Record 25 of Set 4 : rio grande\n",
      "Processing Record 26 of Set 4 : nikolskoye\n",
      "Processing Record 27 of Set 4 : jamestown\n",
      "Processing Record 28 of Set 4 : chahal\n",
      "Processing Record 29 of Set 4 : lac du bonnet\n",
      "Processing Record 30 of Set 4 : macau\n",
      "Processing Record 31 of Set 4 : koumac\n",
      "City not found. Skipping...\n",
      "Processing Record 32 of Set 4 : suez\n",
      "Processing Record 33 of Set 4 : vardo\n",
      "Processing Record 34 of Set 4 : wewak\n",
      "Processing Record 35 of Set 4 : ilulissat\n",
      "Processing Record 36 of Set 4 : cherskiy\n",
      "City not found. Skipping...\n",
      "Processing Record 37 of Set 4 : tahe\n",
      "Processing Record 38 of Set 4 : dikson\n",
      "Processing Record 39 of Set 4 : barrow\n",
      "Processing Record 40 of Set 4 : tuktoyaktuk\n",
      "Processing Record 41 of Set 4 : mamallapuram\n",
      "Processing Record 42 of Set 4 : iqaluit\n",
      "Processing Record 43 of Set 4 : hambantota\n",
      "Processing Record 44 of Set 4 : carnarvon\n",
      "City not found. Skipping...\n",
      "Processing Record 45 of Set 4 : diapaga\n",
      "Processing Record 46 of Set 4 : severo-kurilsk\n",
      "Processing Record 47 of Set 4 : bethel\n",
      "Processing Record 48 of Set 4 : sao filipe\n",
      "Processing Record 49 of Set 4 : kahului\n",
      "Processing Record 50 of Set 4 : rutland\n",
      "Processing Record 0 of Set 5 : chuy\n",
      "Processing Record 1 of Set 5 : bluff\n",
      "Processing Record 2 of Set 5 : longyearbyen\n",
      "Processing Record 3 of Set 5 : jackson\n",
      "Processing Record 4 of Set 5 : ponta do sol\n",
      "Processing Record 5 of Set 5 : ahipara\n",
      "City not found. Skipping...\n",
      "Processing Record 6 of Set 5 : kavaratti\n",
      "Processing Record 7 of Set 5 : san agustin\n",
      "Processing Record 8 of Set 5 : nangomba\n",
      "Processing Record 9 of Set 5 : kulu\n",
      "Processing Record 10 of Set 5 : east london\n",
      "Processing Record 11 of Set 5 : vaini\n",
      "Processing Record 12 of Set 5 : otofuke\n",
      "Processing Record 13 of Set 5 : canora\n",
      "Processing Record 14 of Set 5 : saskylakh\n",
      "Processing Record 15 of Set 5 : avera\n",
      "Processing Record 16 of Set 5 : carballo\n",
      "Processing Record 17 of Set 5 : la asuncion\n",
      "Processing Record 18 of Set 5 : dawlatabad\n",
      "Processing Record 19 of Set 5 : tilbury\n",
      "Processing Record 20 of Set 5 : dudinka\n",
      "Processing Record 21 of Set 5 : banes\n",
      "Processing Record 22 of Set 5 : sorsk\n",
      "Processing Record 23 of Set 5 : otjiwarongo\n",
      "Processing Record 24 of Set 5 : los llanos de aridane\n",
      "Processing Record 25 of Set 5 : thunder bay\n",
      "City not found. Skipping...\n",
      "Processing Record 26 of Set 5 : shiraz\n",
      "Processing Record 27 of Set 5 : bloomfield\n",
      "Processing Record 28 of Set 5 : lago da pedra\n",
      "Processing Record 29 of Set 5 : japura\n",
      "Processing Record 30 of Set 5 : abu dhabi\n",
      "City not found. Skipping...\n",
      "Processing Record 31 of Set 5 : batemans bay\n",
      "City not found. Skipping...\n",
      "Processing Record 32 of Set 5 : cabo san lucas\n",
      "Processing Record 33 of Set 5 : mackay\n",
      "Processing Record 34 of Set 5 : muroto\n",
      "City not found. Skipping...\n",
      "Processing Record 35 of Set 5 : baykit\n",
      "Processing Record 36 of Set 5 : vila franca do campo\n",
      "Processing Record 37 of Set 5 : qaanaaq\n",
      "Processing Record 38 of Set 5 : aksu\n",
      "Processing Record 39 of Set 5 : naze\n",
      "Processing Record 40 of Set 5 : linhai\n",
      "Processing Record 41 of Set 5 : port hardy\n",
      "Processing Record 42 of Set 5 : methoni\n",
      "Processing Record 43 of Set 5 : ponta delgada\n",
      "City not found. Skipping...\n",
      "Processing Record 44 of Set 5 : pestretsy\n",
      "Processing Record 45 of Set 5 : pitimbu\n",
      "Processing Record 46 of Set 5 : mae sai\n",
      "Processing Record 47 of Set 5 : salalah\n",
      "Processing Record 48 of Set 5 : tomigusuku\n",
      "Processing Record 49 of Set 5 : waingapu\n",
      "Processing Record 50 of Set 5 : marystown\n",
      "Processing Record 0 of Set 6 : marica\n",
      "Processing Record 1 of Set 6 : deputatskiy\n",
      "Processing Record 2 of Set 6 : warri\n",
      "Processing Record 3 of Set 6 : hamilton\n",
      "Processing Record 4 of Set 6 : yar-sale\n",
      "Processing Record 5 of Set 6 : diu\n",
      "Processing Record 6 of Set 6 : fort dix\n",
      "Processing Record 7 of Set 6 : medicine hat\n",
      "Processing Record 8 of Set 6 : jaru\n",
      "Processing Record 9 of Set 6 : cururupu\n",
      "Processing Record 10 of Set 6 : tuatapere\n",
      "Processing Record 11 of Set 6 : souillac\n",
      "Processing Record 12 of Set 6 : merauke\n",
      "City not found. Skipping...\n",
      "Processing Record 13 of Set 6 : richards bay\n",
      "Processing Record 14 of Set 6 : san jeronimo\n",
      "Processing Record 15 of Set 6 : havoysund\n",
      "Processing Record 16 of Set 6 : faya\n",
      "Processing Record 17 of Set 6 : thompson\n",
      "Processing Record 18 of Set 6 : camacha\n",
      "Processing Record 19 of Set 6 : bowral\n",
      "Processing Record 20 of Set 6 : esperance\n",
      "Processing Record 21 of Set 6 : tiksi\n",
      "City not found. Skipping...\n",
      "Processing Record 22 of Set 6 : mahon\n",
      "Processing Record 23 of Set 6 : road town\n",
      "Processing Record 24 of Set 6 : kemijarvi\n",
      "Processing Record 25 of Set 6 : mount gambier\n",
      "Processing Record 26 of Set 6 : eureka\n",
      "City not found. Skipping...\n"
     ]
    },
    {
     "name": "stdout",
     "output_type": "stream",
     "text": [
      "Processing Record 27 of Set 6 : broken hill\n",
      "Processing Record 28 of Set 6 : okha\n",
      "Processing Record 29 of Set 6 : kismayo\n",
      "Processing Record 30 of Set 6 : mitu\n",
      "Processing Record 31 of Set 6 : anzhero-sudzhensk\n",
      "Processing Record 32 of Set 6 : quartucciu\n",
      "Processing Record 33 of Set 6 : waipawa\n",
      "Processing Record 34 of Set 6 : almeirim\n",
      "Processing Record 35 of Set 6 : sakaraha\n",
      "Processing Record 36 of Set 6 : bako\n",
      "Processing Record 37 of Set 6 : varhaug\n",
      "Processing Record 38 of Set 6 : pundaguitan\n",
      "Processing Record 39 of Set 6 : skibbereen\n",
      "Processing Record 40 of Set 6 : klaksvik\n",
      "Processing Record 41 of Set 6 : parana\n",
      "Processing Record 42 of Set 6 : port pirie\n",
      "Processing Record 43 of Set 6 : lagoa\n",
      "Processing Record 44 of Set 6 : mwanza\n",
      "Processing Record 45 of Set 6 : pimentel\n",
      "Processing Record 46 of Set 6 : salinopolis\n",
      "Processing Record 47 of Set 6 : arman\n",
      "Processing Record 48 of Set 6 : nampula\n",
      "Processing Record 49 of Set 6 : alta\n",
      "Processing Record 50 of Set 6 : tevaitoa\n",
      "Processing Record 0 of Set 7 : corner brook\n",
      "Processing Record 1 of Set 7 : progreso\n",
      "Processing Record 2 of Set 7 : panzhihua\n",
      "Processing Record 3 of Set 7 : jalu\n",
      "Processing Record 4 of Set 7 : berlevag\n",
      "Processing Record 5 of Set 7 : yellowknife\n",
      "Processing Record 6 of Set 7 : beira\n",
      "Processing Record 7 of Set 7 : hurricane\n",
      "Processing Record 8 of Set 7 : shwebo\n",
      "Processing Record 9 of Set 7 : sibolga\n",
      "Processing Record 10 of Set 7 : kawalu\n",
      "Processing Record 11 of Set 7 : lodja\n",
      "Processing Record 12 of Set 7 : mayumba\n",
      "Processing Record 13 of Set 7 : ceres\n",
      "Processing Record 14 of Set 7 : sozimskiy\n",
      "Processing Record 15 of Set 7 : dali\n",
      "Processing Record 16 of Set 7 : diego de almagro\n",
      "Processing Record 17 of Set 7 : prince rupert\n",
      "Processing Record 18 of Set 7 : kalaleh\n",
      "Processing Record 19 of Set 7 : asau\n",
      "Processing Record 20 of Set 7 : srednekolymsk\n",
      "Processing Record 21 of Set 7 : mahebourg\n",
      "Processing Record 22 of Set 7 : concarneau\n",
      "Processing Record 23 of Set 7 : union city\n",
      "Processing Record 24 of Set 7 : qui nhon\n",
      "Processing Record 25 of Set 7 : port keats\n",
      "Processing Record 26 of Set 7 : mahajanga\n",
      "Processing Record 27 of Set 7 : paamiut\n",
      "Processing Record 28 of Set 7 : tsabong\n",
      "Processing Record 29 of Set 7 : micheweni\n",
      "Processing Record 30 of Set 7 : denpasar\n",
      "Processing Record 31 of Set 7 : emerald\n",
      "Processing Record 32 of Set 7 : kaitangata\n",
      "Processing Record 33 of Set 7 : fortuna\n",
      "Processing Record 34 of Set 7 : riberalta\n",
      "Processing Record 35 of Set 7 : comodoro rivadavia\n",
      "Processing Record 36 of Set 7 : taksimo\n",
      "Processing Record 37 of Set 7 : la mana\n",
      "Processing Record 38 of Set 7 : ratnagiri\n",
      "Processing Record 39 of Set 7 : abu zabad\n",
      "Processing Record 40 of Set 7 : te anau\n",
      "Processing Record 41 of Set 7 : surajgarh\n",
      "Processing Record 42 of Set 7 : ossora\n",
      "Processing Record 43 of Set 7 : castro\n",
      "Processing Record 44 of Set 7 : rawson\n",
      "Processing Record 45 of Set 7 : coihaique\n",
      "Processing Record 46 of Set 7 : lamar\n",
      "City not found. Skipping...\n",
      "Processing Record 47 of Set 7 : arlit\n",
      "Processing Record 48 of Set 7 : edea\n",
      "Processing Record 49 of Set 7 : orbetello\n",
      "Processing Record 50 of Set 7 : sterling\n",
      "Processing Record 0 of Set 8 : svetlaya\n",
      "Processing Record 1 of Set 8 : aripuana\n",
      "Processing Record 2 of Set 8 : staunton\n",
      "Processing Record 3 of Set 8 : mosetse\n",
      "City not found. Skipping...\n",
      "City not found. Skipping...\n",
      "Processing Record 4 of Set 8 : kutum\n",
      "City not found. Skipping...\n",
      "Processing Record 5 of Set 8 : henties bay\n",
      "Processing Record 6 of Set 8 : nelson bay\n",
      "Processing Record 7 of Set 8 : sitka\n",
      "Processing Record 8 of Set 8 : bud\n",
      "Processing Record 9 of Set 8 : deniliquin\n",
      "Processing Record 10 of Set 8 : adre\n",
      "City not found. Skipping...\n",
      "Processing Record 11 of Set 8 : mehamn\n",
      "Processing Record 12 of Set 8 : victoria\n",
      "Processing Record 13 of Set 8 : mainit\n",
      "Processing Record 14 of Set 8 : timoteo\n",
      "Processing Record 15 of Set 8 : buala\n",
      "Processing Record 16 of Set 8 : bathsheba\n",
      "Processing Record 17 of Set 8 : ipswich\n",
      "Processing Record 18 of Set 8 : camapua\n",
      "Processing Record 19 of Set 8 : cayenne\n",
      "Processing Record 20 of Set 8 : padang\n",
      "Processing Record 21 of Set 8 : saint-philippe\n",
      "Processing Record 22 of Set 8 : cap malheureux\n",
      "Processing Record 23 of Set 8 : oyek\n",
      "Processing Record 24 of Set 8 : shimoda\n",
      "Processing Record 25 of Set 8 : alice springs\n",
      "Processing Record 26 of Set 8 : simbahan\n",
      "Processing Record 27 of Set 8 : georgetown\n",
      "Processing Record 28 of Set 8 : kapit\n",
      "Processing Record 29 of Set 8 : champerico\n",
      "Processing Record 30 of Set 8 : aitape\n",
      "Processing Record 31 of Set 8 : borogontsy\n",
      "Processing Record 32 of Set 8 : udachnyy\n",
      "Processing Record 33 of Set 8 : nakhon sawan\n",
      "Processing Record 34 of Set 8 : ribeira grande\n",
      "Processing Record 35 of Set 8 : badvel\n",
      "Processing Record 36 of Set 8 : puerto colombia\n",
      "Processing Record 37 of Set 8 : bocas del toro\n",
      "Processing Record 38 of Set 8 : santiago del estero\n",
      "Processing Record 39 of Set 8 : morro bay\n",
      "Processing Record 40 of Set 8 : kavieng\n",
      "Processing Record 41 of Set 8 : ko samui\n",
      "Processing Record 42 of Set 8 : katsuura\n",
      "Processing Record 43 of Set 8 : chateaubelair\n",
      "Processing Record 44 of Set 8 : provideniya\n",
      "Processing Record 45 of Set 8 : poli\n",
      "Processing Record 46 of Set 8 : saint-joseph\n",
      "Processing Record 47 of Set 8 : kuching\n",
      "Processing Record 48 of Set 8 : xuddur\n",
      "Processing Record 49 of Set 8 : sur\n",
      "Processing Record 50 of Set 8 : pisco\n",
      "Processing Record 0 of Set 9 : kiruna\n",
      "Processing Record 1 of Set 9 : ambilobe\n",
      "Processing Record 2 of Set 9 : batagay-alyta\n",
      "Processing Record 3 of Set 9 : san jose\n",
      "Processing Record 4 of Set 9 : caraballeda\n",
      "Processing Record 5 of Set 9 : ancud\n",
      "Processing Record 6 of Set 9 : singaraja\n",
      "Processing Record 7 of Set 9 : cartagena\n",
      "Processing Record 8 of Set 9 : boromo\n",
      "Processing Record 9 of Set 9 : noyabrsk\n",
      "City not found. Skipping...\n",
      "Processing Record 10 of Set 9 : mayo\n",
      "Processing Record 11 of Set 9 : narva-joesuu\n",
      "City not found. Skipping...\n",
      "Processing Record 12 of Set 9 : talnakh\n",
      "Processing Record 13 of Set 9 : mezhdurechenskiy\n",
      "Processing Record 14 of Set 9 : saldanha\n",
      "Processing Record 15 of Set 9 : sao joao da barra\n",
      "Processing Record 16 of Set 9 : belmonte\n",
      "Processing Record 17 of Set 9 : acapulco\n",
      "Processing Record 18 of Set 9 : kachug\n",
      "Processing Record 19 of Set 9 : komsomolskiy\n",
      "Processing Record 20 of Set 9 : umba\n",
      "Processing Record 21 of Set 9 : maningrida\n",
      "Processing Record 22 of Set 9 : dourados\n",
      "Processing Record 23 of Set 9 : talcahuano\n",
      "City not found. Skipping...\n",
      "Processing Record 24 of Set 9 : la ronge\n",
      "Processing Record 25 of Set 9 : lompoc\n",
      "Processing Record 26 of Set 9 : raudeberg\n",
      "Processing Record 27 of Set 9 : male\n",
      "Processing Record 28 of Set 9 : urusha\n",
      "Processing Record 29 of Set 9 : ukiah\n",
      "Processing Record 30 of Set 9 : leningradskiy\n",
      "Processing Record 31 of Set 9 : reichenbach\n",
      "Processing Record 32 of Set 9 : shipunovo\n",
      "Processing Record 33 of Set 9 : lata\n",
      "Processing Record 34 of Set 9 : sorland\n",
      "Processing Record 35 of Set 9 : lamu\n",
      "Processing Record 36 of Set 9 : coolum beach\n",
      "Processing Record 37 of Set 9 : eyl\n",
      "Processing Record 38 of Set 9 : zyryanka\n",
      "Processing Record 39 of Set 9 : phan thiet\n",
      "Processing Record 40 of Set 9 : australind\n",
      "Processing Record 41 of Set 9 : simao\n",
      "Processing Record 42 of Set 9 : lieksa\n",
      "Processing Record 43 of Set 9 : torbay\n",
      "Processing Record 44 of Set 9 : rio casca\n",
      "Processing Record 45 of Set 9 : troyes\n",
      "Processing Record 46 of Set 9 : pangai\n",
      "Processing Record 47 of Set 9 : alekseyevsk\n",
      "Processing Record 48 of Set 9 : ishigaki\n",
      "City not found. Skipping...\n",
      "Processing Record 49 of Set 9 : wuda\n",
      "Processing Record 50 of Set 9 : airai\n",
      "Processing Record 0 of Set 10 : lasa\n",
      "Processing Record 1 of Set 10 : meulaboh\n",
      "Processing Record 2 of Set 10 : mbandaka\n",
      "Processing Record 3 of Set 10 : bintulu\n",
      "City not found. Skipping...\n",
      "Processing Record 4 of Set 10 : lomovka\n",
      "Processing Record 5 of Set 10 : evensk\n",
      "Processing Record 6 of Set 10 : olafsvik\n",
      "Processing Record 7 of Set 10 : mokhsogollokh\n",
      "City not found. Skipping...\n",
      "Processing Record 8 of Set 10 : makat\n",
      "Processing Record 9 of Set 10 : kroya\n",
      "Processing Record 10 of Set 10 : amahai\n",
      "Processing Record 11 of Set 10 : pontes e lacerda\n",
      "Processing Record 12 of Set 10 : phrae\n",
      "Processing Record 13 of Set 10 : tecoanapa\n",
      "Processing Record 14 of Set 10 : velsk\n",
      "Processing Record 15 of Set 10 : lunenburg\n",
      "Processing Record 16 of Set 10 : scottsbluff\n"
     ]
    },
    {
     "name": "stdout",
     "output_type": "stream",
     "text": [
      "City not found. Skipping...\n",
      "Processing Record 17 of Set 10 : starozhilovo\n",
      "Processing Record 18 of Set 10 : pervomayskiy\n",
      "Processing Record 19 of Set 10 : francisco sa\n",
      "Processing Record 20 of Set 10 : beeville\n",
      "Processing Record 21 of Set 10 : okato\n",
      "Processing Record 22 of Set 10 : praia da vitoria\n",
      "Processing Record 23 of Set 10 : aliwal north\n",
      "Processing Record 24 of Set 10 : manokwari\n",
      "Processing Record 25 of Set 10 : krzeszowice\n",
      "Processing Record 26 of Set 10 : solton\n",
      "City not found. Skipping...\n",
      "Processing Record 27 of Set 10 : daru\n",
      "Processing Record 28 of Set 10 : asfi\n",
      "Processing Record 29 of Set 10 : la primavera\n",
      "Processing Record 30 of Set 10 : bayir\n",
      "Processing Record 31 of Set 10 : singkang\n",
      "Processing Record 32 of Set 10 : akhalgori\n",
      "Processing Record 33 of Set 10 : severo-yeniseyskiy\n",
      "Processing Record 34 of Set 10 : oyama\n",
      "Processing Record 35 of Set 10 : cacoal\n",
      "Processing Record 36 of Set 10 : itaunja\n",
      "Processing Record 37 of Set 10 : inhambane\n",
      "Processing Record 38 of Set 10 : altamira\n",
      "Processing Record 39 of Set 10 : gizo\n",
      "Processing Record 40 of Set 10 : lindi\n",
      "Processing Record 41 of Set 10 : antsohihy\n",
      "Processing Record 42 of Set 10 : sobolevo\n",
      "Processing Record 43 of Set 10 : sao jose da coroa grande\n",
      "Processing Record 44 of Set 10 : jinotega\n",
      "Processing Record 45 of Set 10 : rosetta\n",
      "Processing Record 46 of Set 10 : gumdag\n",
      "Processing Record 47 of Set 10 : bongandanga\n",
      "Processing Record 48 of Set 10 : nevelsk\n",
      "Processing Record 49 of Set 10 : oktyabrskiy\n",
      "Processing Record 50 of Set 10 : constitucion\n",
      "Processing Record 0 of Set 11 : kaeo\n",
      "Processing Record 1 of Set 11 : beroroha\n",
      "Processing Record 2 of Set 11 : aberystwyth\n",
      "Processing Record 3 of Set 11 : puerto ayacucho\n",
      "Processing Record 4 of Set 11 : noumea\n",
      "Processing Record 5 of Set 11 : qaqortoq\n",
      "Processing Record 6 of Set 11 : durusu\n",
      "Processing Record 7 of Set 11 : lander\n",
      "Processing Record 8 of Set 11 : ozernovskiy\n",
      "Processing Record 9 of Set 11 : roald\n",
      "Processing Record 10 of Set 11 : nalgonda\n",
      "Processing Record 11 of Set 11 : kidal\n",
      "Processing Record 12 of Set 11 : manubul\n",
      "Processing Record 13 of Set 11 : octeville\n",
      "Processing Record 14 of Set 11 : san andres\n",
      "Processing Record 15 of Set 11 : pacific grove\n",
      "Processing Record 16 of Set 11 : leshan\n",
      "Processing Record 17 of Set 11 : touros\n",
      "Processing Record 18 of Set 11 : sarakhs\n",
      "Processing Record 19 of Set 11 : the valley\n",
      "City not found. Skipping...\n",
      "City not found. Skipping...\n",
      "Processing Record 20 of Set 11 : vilhena\n",
      "Processing Record 21 of Set 11 : dabola\n",
      "Processing Record 22 of Set 11 : edd\n",
      "Processing Record 23 of Set 11 : harper\n",
      "Processing Record 24 of Set 11 : lorengau\n",
      "Processing Record 25 of Set 11 : ambanja\n",
      "City not found. Skipping...\n",
      "Processing Record 26 of Set 11 : laguna\n",
      "Processing Record 27 of Set 11 : vung tau\n",
      "Processing Record 28 of Set 11 : umm kaddadah\n",
      "Processing Record 29 of Set 11 : namibe\n",
      "Processing Record 30 of Set 11 : okhotsk\n",
      "Processing Record 31 of Set 11 : narsaq\n",
      "Processing Record 32 of Set 11 : umuarama\n",
      "Processing Record 33 of Set 11 : liverpool\n",
      "City not found. Skipping...\n",
      "Processing Record 34 of Set 11 : husavik\n",
      "Processing Record 35 of Set 11 : oussouye\n",
      "Processing Record 36 of Set 11 : manchar\n",
      "City not found. Skipping...\n",
      "City not found. Skipping...\n",
      "Processing Record 37 of Set 11 : ulladulla\n",
      "Processing Record 38 of Set 11 : salvador\n",
      "Processing Record 39 of Set 11 : priiskovyy\n",
      "City not found. Skipping...\n",
      "Processing Record 40 of Set 11 : porto novo\n",
      "Processing Record 41 of Set 11 : andenes\n",
      "Processing Record 42 of Set 11 : atasu\n",
      "Processing Record 43 of Set 11 : ternate\n",
      "Processing Record 44 of Set 11 : nanyamba\n",
      "Processing Record 45 of Set 11 : sola\n",
      "City not found. Skipping...\n",
      "City not found. Skipping...\n",
      "Processing Record 46 of Set 11 : north bend\n",
      "Processing Record 47 of Set 11 : pevek\n",
      "City not found. Skipping...\n",
      "Processing Record 48 of Set 11 : ifanadiana\n",
      "Processing Record 49 of Set 11 : stadtallendorf\n",
      "Processing Record 50 of Set 11 : guanare\n",
      "Processing Record 0 of Set 12 : mocuba\n",
      "Processing Record 1 of Set 12 : tres lagoas\n",
      "Processing Record 2 of Set 12 : kununurra\n",
      "Processing Record 3 of Set 12 : macas\n",
      "Processing Record 4 of Set 12 : tura\n",
      "Processing Record 5 of Set 12 : hami\n",
      "Processing Record 6 of Set 12 : bitung\n",
      "Processing Record 7 of Set 12 : bougouni\n",
      "Processing Record 8 of Set 12 : sargatskoye\n",
      "Processing Record 9 of Set 12 : itarema\n",
      "Processing Record 10 of Set 12 : bubaque\n",
      "Processing Record 11 of Set 12 : san quintin\n",
      "Processing Record 12 of Set 12 : petrolina de goias\n",
      "Processing Record 13 of Set 12 : san patricio\n",
      "Processing Record 14 of Set 12 : koslan\n",
      "Processing Record 15 of Set 12 : windhoek\n",
      "Processing Record 16 of Set 12 : mao\n",
      "Processing Record 17 of Set 12 : omboue\n",
      "Processing Record 18 of Set 12 : lakes entrance\n",
      "Processing Record 19 of Set 12 : chimoio\n",
      "Processing Record 20 of Set 12 : tiznit\n",
      "Processing Record 21 of Set 12 : worthington\n",
      "Processing Record 22 of Set 12 : kingman\n",
      "Processing Record 23 of Set 12 : tyup\n",
      "Processing Record 24 of Set 12 : sorong\n",
      "Processing Record 25 of Set 12 : kudahuvadhoo\n",
      "Processing Record 26 of Set 12 : stromness\n",
      "Processing Record 27 of Set 12 : sambava\n",
      "Processing Record 28 of Set 12 : xining\n",
      "City not found. Skipping...\n",
      "Processing Record 29 of Set 12 : floro\n",
      "Processing Record 30 of Set 12 : fort nelson\n",
      "Processing Record 31 of Set 12 : marsh harbour\n",
      "Processing Record 32 of Set 12 : kunri\n",
      "Processing Record 33 of Set 12 : alpena\n",
      "Processing Record 34 of Set 12 : general roca\n",
      "Processing Record 35 of Set 12 : paita\n",
      "Processing Record 36 of Set 12 : vannes\n",
      "Processing Record 37 of Set 12 : huoqiu\n",
      "Processing Record 38 of Set 12 : port lincoln\n",
      "Processing Record 39 of Set 12 : bahir dar\n",
      "Processing Record 40 of Set 12 : marfino\n",
      "Processing Record 41 of Set 12 : palu\n",
      "Processing Record 42 of Set 12 : mantua\n",
      "Processing Record 43 of Set 12 : bon accord\n",
      "Processing Record 44 of Set 12 : mandera\n",
      "Processing Record 45 of Set 12 : barranca\n",
      "Processing Record 46 of Set 12 : fazendas de almeirim\n",
      "Processing Record 47 of Set 12 : iskateley\n",
      "City not found. Skipping...\n",
      "Processing Record 48 of Set 12 : hay river\n",
      "Processing Record 49 of Set 12 : nyurba\n",
      "Processing Record 50 of Set 12 : donskoye\n",
      "Processing Record 0 of Set 13 : adrar\n",
      "Processing Record 1 of Set 13 : tonantins\n",
      "Processing Record 2 of Set 13 : namtsy\n",
      "Processing Record 3 of Set 13 : datong\n",
      "Processing Record 4 of Set 13 : egvekinot\n",
      "Processing Record 5 of Set 13 : nyzhni sirohozy\n",
      "Processing Record 6 of Set 13 : romanovo\n",
      "Processing Record 7 of Set 13 : quang ngai\n",
      "Processing Record 8 of Set 13 : malakal\n",
      "Processing Record 9 of Set 13 : fare\n",
      "Processing Record 10 of Set 13 : taoudenni\n",
      "Processing Record 11 of Set 13 : ahuimanu\n",
      "Processing Record 12 of Set 13 : gazanjyk\n",
      "Processing Record 13 of Set 13 : bandarbeyla\n",
      "Processing Record 14 of Set 13 : huescar\n",
      "Processing Record 15 of Set 13 : sitia\n",
      "Processing Record 16 of Set 13 : grand gaube\n",
      "Processing Record 17 of Set 13 : haines junction\n",
      "Processing Record 18 of Set 13 : westport\n",
      "Processing Record 19 of Set 13 : tomatlan\n",
      "Processing Record 20 of Set 13 : shieli\n",
      "Processing Record 21 of Set 13 : san pedro\n",
      "Processing Record 22 of Set 13 : saint anthony\n",
      "Processing Record 23 of Set 13 : lavrentiya\n",
      "Processing Record 24 of Set 13 : puerto narino\n",
      "Processing Record 25 of Set 13 : ornskoldsvik\n",
      "Processing Record 26 of Set 13 : odweyne\n",
      "Processing Record 27 of Set 13 : poiana stampei\n",
      "Processing Record 28 of Set 13 : ermelo\n",
      "Processing Record 29 of Set 13 : hoorn\n",
      "Processing Record 30 of Set 13 : meadville\n",
      "Processing Record 31 of Set 13 : high level\n",
      "Processing Record 32 of Set 13 : labuhan\n",
      "Processing Record 33 of Set 13 : matay\n",
      "Processing Record 34 of Set 13 : wanning\n",
      "Processing Record 35 of Set 13 : shahrud\n",
      "Processing Record 36 of Set 13 : coaldale\n",
      "Processing Record 37 of Set 13 : college\n",
      "Processing Record 38 of Set 13 : pauini\n",
      "Processing Record 39 of Set 13 : tateyama\n",
      "Processing Record 40 of Set 13 : ashdod\n",
      "City not found. Skipping...\n",
      "Processing Record 41 of Set 13 : telgte\n",
      "City not found. Skipping...\n",
      "Processing Record 42 of Set 13 : arauca\n",
      "Processing Record 43 of Set 13 : shu\n",
      "Processing Record 44 of Set 13 : selikhino\n",
      "Processing Record 45 of Set 13 : walvis bay\n",
      "Processing Record 46 of Set 13 : half moon bay\n",
      "Processing Record 47 of Set 13 : verkhnevilyuysk\n"
     ]
    },
    {
     "name": "stdout",
     "output_type": "stream",
     "text": [
      "City not found. Skipping...\n",
      "Processing Record 48 of Set 13 : pangkalanbuun\n",
      "Processing Record 49 of Set 13 : winnemucca\n",
      "Processing Record 50 of Set 13 : puerto del rosario\n",
      "Processing Record 0 of Set 14 : tucumcari\n",
      "Processing Record 1 of Set 14 : ixtapa\n",
      "Processing Record 2 of Set 14 : vostok\n",
      "Processing Record 3 of Set 14 : bairiki\n",
      "------------------------------\n",
      "Data Retrieval Complete\n",
      "------------------------------\n"
     ]
    }
   ],
   "source": [
    "print(\"Beginning Data Retrieval \")\n",
    "print(\"------------------------------\")\n",
    "\n",
    "base_url = \"http://api.openweathermap.org/data/2.5/weather?\"\n",
    "units = \"imperial\"\n",
    "query_url = f\"{base_url}appid={weather_api_key}&units={units}&q=\"\n",
    "\n",
    "#for each city name in cities list using enumerate\n",
    "for index, city in enumerate(cities, start = 1):\n",
    "    try:\n",
    "        response = requests.get(query_url + city).json()\n",
    "        city_list.append(response[\"name\"])\n",
    "        cloud_list.append(response[\"clouds\"][\"all\"])\n",
    "        country_list.append(response[\"sys\"][\"country\"])\n",
    "        date_list.append(response[\"dt\"])\n",
    "        humidity_list.append(response[\"main\"][\"humidity\"])\n",
    "        lat_list.append(response[\"coord\"][\"lat\"])\n",
    "        lng_list.append(response[\"coord\"][\"lon\"])\n",
    "        max_temp_list.append(response[\"main\"][\"temp_max\"])\n",
    "        wind_speed_list.append(response[\"wind\"][\"speed\"])\n",
    "        if index_counter > 49:\n",
    "            index_counter = 0\n",
    "            set_counter = set_counter + 1\n",
    "        else:\n",
    "            index_counter = index_counter + 1\n",
    "        print(f\"Processing Record {index_counter} of Set {set_counter} : {city}\")\n",
    "        \n",
    "    except(KeyError, IndexError):\n",
    "        print(\"City not found. Skipping...\")\n",
    "\n",
    "print(\"------------------------------\")\n",
    "print(\"Data Retrieval Complete\")\n",
    "print(\"------------------------------\")"
   ]
  },
  {
   "cell_type": "markdown",
   "metadata": {},
   "source": [
    "### Convert Raw Data to DataFrame\n",
    "* Export the city data into a .csv.\n",
    "* Display the DataFrame"
   ]
  },
  {
   "cell_type": "code",
   "execution_count": 84,
   "metadata": {},
   "outputs": [
    {
     "data": {
      "text/plain": [
       "City          666\n",
       "Lat           666\n",
       "Lng           666\n",
       "Max Temp      666\n",
       "Humidity      666\n",
       "Clouds        666\n",
       "Wind Speed    666\n",
       "Country       666\n",
       "Date          666\n",
       "dtype: int64"
      ]
     },
     "execution_count": 84,
     "metadata": {},
     "output_type": "execute_result"
    }
   ],
   "source": [
    "#creating a dataframe \n",
    "weather_df = pd.DataFrame({\"City\": city_list,\n",
    "                           \"Lat\": lat_list,\n",
    "                           \"Lng\": lng_list,\n",
    "                           \"Max Temp\": max_temp_list,\n",
    "                           \"Humidity\": humidity_list,\n",
    "                           \"Clouds\": cloud_list,\n",
    "                           \"Wind Speed\": wind_speed_list,\n",
    "                           \"Country\": country_list,\n",
    "                           \"Date\": date_list})\n",
    "#counting the data\n",
    "weather_df.count()"
   ]
  },
  {
   "cell_type": "code",
   "execution_count": 85,
   "metadata": {},
   "outputs": [
    {
     "data": {
      "text/html": [
       "<div>\n",
       "<style scoped>\n",
       "    .dataframe tbody tr th:only-of-type {\n",
       "        vertical-align: middle;\n",
       "    }\n",
       "\n",
       "    .dataframe tbody tr th {\n",
       "        vertical-align: top;\n",
       "    }\n",
       "\n",
       "    .dataframe thead th {\n",
       "        text-align: right;\n",
       "    }\n",
       "</style>\n",
       "<table border=\"1\" class=\"dataframe\">\n",
       "  <thead>\n",
       "    <tr style=\"text-align: right;\">\n",
       "      <th></th>\n",
       "      <th>City</th>\n",
       "      <th>Lat</th>\n",
       "      <th>Lng</th>\n",
       "      <th>Max Temp</th>\n",
       "      <th>Humidity</th>\n",
       "      <th>Clouds</th>\n",
       "      <th>Wind Speed</th>\n",
       "      <th>Country</th>\n",
       "      <th>Date</th>\n",
       "    </tr>\n",
       "  </thead>\n",
       "  <tbody>\n",
       "    <tr>\n",
       "      <th>0</th>\n",
       "      <td>Port Hedland</td>\n",
       "      <td>-20.3167</td>\n",
       "      <td>118.5667</td>\n",
       "      <td>84.25</td>\n",
       "      <td>79</td>\n",
       "      <td>100</td>\n",
       "      <td>14.97</td>\n",
       "      <td>AU</td>\n",
       "      <td>1643648998</td>\n",
       "    </tr>\n",
       "    <tr>\n",
       "      <th>1</th>\n",
       "      <td>Portland</td>\n",
       "      <td>45.5234</td>\n",
       "      <td>-122.6762</td>\n",
       "      <td>41.90</td>\n",
       "      <td>91</td>\n",
       "      <td>75</td>\n",
       "      <td>1.01</td>\n",
       "      <td>US</td>\n",
       "      <td>1643648973</td>\n",
       "    </tr>\n",
       "    <tr>\n",
       "      <th>2</th>\n",
       "      <td>Rikitea</td>\n",
       "      <td>-23.1203</td>\n",
       "      <td>-134.9692</td>\n",
       "      <td>76.93</td>\n",
       "      <td>63</td>\n",
       "      <td>100</td>\n",
       "      <td>3.22</td>\n",
       "      <td>PF</td>\n",
       "      <td>1643649118</td>\n",
       "    </tr>\n",
       "    <tr>\n",
       "      <th>3</th>\n",
       "      <td>Port Hedland</td>\n",
       "      <td>-20.3167</td>\n",
       "      <td>118.5667</td>\n",
       "      <td>84.25</td>\n",
       "      <td>79</td>\n",
       "      <td>100</td>\n",
       "      <td>14.97</td>\n",
       "      <td>AU</td>\n",
       "      <td>1643649384</td>\n",
       "    </tr>\n",
       "    <tr>\n",
       "      <th>4</th>\n",
       "      <td>Portland</td>\n",
       "      <td>45.5234</td>\n",
       "      <td>-122.6762</td>\n",
       "      <td>41.90</td>\n",
       "      <td>91</td>\n",
       "      <td>75</td>\n",
       "      <td>1.01</td>\n",
       "      <td>US</td>\n",
       "      <td>1643648973</td>\n",
       "    </tr>\n",
       "    <tr>\n",
       "      <th>5</th>\n",
       "      <td>Rikitea</td>\n",
       "      <td>-23.1203</td>\n",
       "      <td>-134.9692</td>\n",
       "      <td>76.93</td>\n",
       "      <td>63</td>\n",
       "      <td>100</td>\n",
       "      <td>3.22</td>\n",
       "      <td>PF</td>\n",
       "      <td>1643649118</td>\n",
       "    </tr>\n",
       "    <tr>\n",
       "      <th>6</th>\n",
       "      <td>Albany</td>\n",
       "      <td>42.6001</td>\n",
       "      <td>-73.9662</td>\n",
       "      <td>28.74</td>\n",
       "      <td>47</td>\n",
       "      <td>41</td>\n",
       "      <td>4.00</td>\n",
       "      <td>US</td>\n",
       "      <td>1643649182</td>\n",
       "    </tr>\n",
       "    <tr>\n",
       "      <th>7</th>\n",
       "      <td>Busselton</td>\n",
       "      <td>-33.6500</td>\n",
       "      <td>115.3333</td>\n",
       "      <td>62.04</td>\n",
       "      <td>68</td>\n",
       "      <td>43</td>\n",
       "      <td>15.75</td>\n",
       "      <td>AU</td>\n",
       "      <td>1643649384</td>\n",
       "    </tr>\n",
       "    <tr>\n",
       "      <th>8</th>\n",
       "      <td>Zalegoshch'</td>\n",
       "      <td>52.9008</td>\n",
       "      <td>36.8869</td>\n",
       "      <td>26.69</td>\n",
       "      <td>95</td>\n",
       "      <td>99</td>\n",
       "      <td>12.21</td>\n",
       "      <td>RU</td>\n",
       "      <td>1643649385</td>\n",
       "    </tr>\n",
       "    <tr>\n",
       "      <th>9</th>\n",
       "      <td>George Town</td>\n",
       "      <td>5.4112</td>\n",
       "      <td>100.3354</td>\n",
       "      <td>84.15</td>\n",
       "      <td>81</td>\n",
       "      <td>20</td>\n",
       "      <td>5.75</td>\n",
       "      <td>MY</td>\n",
       "      <td>1643649294</td>\n",
       "    </tr>\n",
       "  </tbody>\n",
       "</table>\n",
       "</div>"
      ],
      "text/plain": [
       "           City      Lat       Lng  Max Temp  Humidity  Clouds  Wind Speed  \\\n",
       "0  Port Hedland -20.3167  118.5667     84.25        79     100       14.97   \n",
       "1      Portland  45.5234 -122.6762     41.90        91      75        1.01   \n",
       "2       Rikitea -23.1203 -134.9692     76.93        63     100        3.22   \n",
       "3  Port Hedland -20.3167  118.5667     84.25        79     100       14.97   \n",
       "4      Portland  45.5234 -122.6762     41.90        91      75        1.01   \n",
       "5       Rikitea -23.1203 -134.9692     76.93        63     100        3.22   \n",
       "6        Albany  42.6001  -73.9662     28.74        47      41        4.00   \n",
       "7     Busselton -33.6500  115.3333     62.04        68      43       15.75   \n",
       "8   Zalegoshch'  52.9008   36.8869     26.69        95      99       12.21   \n",
       "9   George Town   5.4112  100.3354     84.15        81      20        5.75   \n",
       "\n",
       "  Country        Date  \n",
       "0      AU  1643648998  \n",
       "1      US  1643648973  \n",
       "2      PF  1643649118  \n",
       "3      AU  1643649384  \n",
       "4      US  1643648973  \n",
       "5      PF  1643649118  \n",
       "6      US  1643649182  \n",
       "7      AU  1643649384  \n",
       "8      RU  1643649385  \n",
       "9      MY  1643649294  "
      ]
     },
     "execution_count": 85,
     "metadata": {},
     "output_type": "execute_result"
    }
   ],
   "source": [
    "#displaying the Data Frame\n",
    "weather_df.head(10)"
   ]
  },
  {
   "cell_type": "code",
   "execution_count": 88,
   "metadata": {},
   "outputs": [],
   "source": [
    "#exporting the data to csv\n",
    "weather_df.to_csv(\"../output_data/cities.csv\", index = False)\n"
   ]
  },
  {
   "cell_type": "markdown",
   "metadata": {},
   "source": [
    "## Inspect the data and remove the cities where the humidity > 100%.\n",
    "----\n",
    "Skip this step if there are no cities that have humidity > 100%. "
   ]
  },
  {
   "cell_type": "code",
   "execution_count": 26,
   "metadata": {},
   "outputs": [
    {
     "name": "stdout",
     "output_type": "stream",
     "text": [
      "Empty DataFrame\n",
      "Columns: [City, Lat, Lng, Max Temp, Humidity, Clouds, Wind Speed, Country, Date]\n",
      "Index: []\n"
     ]
    }
   ],
   "source": [
    "#checking if there is any city with a humidty higher than 100%\n",
    "greater_humidity = weather_df.query(\"Humidity > 100\")\n",
    "print(greater_humidity)"
   ]
  },
  {
   "cell_type": "code",
   "execution_count": null,
   "metadata": {},
   "outputs": [],
   "source": [
    "#  Get the indices of cities that have humidity over 100%.\n"
   ]
  },
  {
   "cell_type": "code",
   "execution_count": null,
   "metadata": {},
   "outputs": [],
   "source": [
    "# Make a new DataFrame equal to the city data to drop all humidity outliers by index.\n",
    "# Passing \"inplace=False\" will make a copy of the city_data DataFrame, which we call \"clean_city_data\".\n"
   ]
  },
  {
   "cell_type": "code",
   "execution_count": null,
   "metadata": {},
   "outputs": [],
   "source": [
    "\n"
   ]
  },
  {
   "cell_type": "markdown",
   "metadata": {},
   "source": [
    "## Plotting the Data\n",
    "* Use proper labeling of the plots using plot titles (including date of analysis) and axes labels.\n",
    "* Save the plotted figures as .pngs."
   ]
  },
  {
   "cell_type": "markdown",
   "metadata": {},
   "source": [
    "## Latitude vs. Temperature Plot"
   ]
  },
  {
   "cell_type": "code",
   "execution_count": 39,
   "metadata": {
    "scrolled": true
   },
   "outputs": [
    {
     "data": {
      "image/png": "[encoded data removed]",
      "text/plain": [
       "<Figure size 432x288 with 1 Axes>"
      ]
     },
     "metadata": {
      "needs_background": "light"
     },
     "output_type": "display_data"
    }
   ],
   "source": [
    "#scatter plot Latitute vs Temperature \n",
    "plt.scatter(weather_df[\"Lat\"], weather_df[\"Max Temp\"], color = \"skyblue\", edgecolor = \"black\")\n",
    "\n",
    "#setting labels\n",
    "plt.xlabel(\"Latitude\")\n",
    "plt.ylabel(\"Max Temperature (F)\")\n",
    "\n",
    "#setting grid line\n",
    "plt.grid(linestyle = \"-\", linewidth = 1, alpha = 0.5)\n",
    "\n",
    "#titling \n",
    "plt.title = (\"City Latitude vs. Max Temperature Plot\")\n",
    "\n",
    "#saving the image\n",
    "plt.savefig(\"../python_api_challenge/Latitude vs Max Temperature.png\")\n",
    "\n"
   ]
  },
  {
   "cell_type": "markdown",
   "metadata": {},
   "source": [
    "## Latitude vs. Humidity Plot"
   ]
  },
  {
   "cell_type": "code",
   "execution_count": 41,
   "metadata": {},
   "outputs": [
    {
     "data": {
      "image/png": "[encoded data removed]",
      "text/plain": [
       "<Figure size 432x288 with 1 Axes>"
      ]
     },
     "metadata": {
      "needs_background": "light"
     },
     "output_type": "display_data"
    }
   ],
   "source": [
    "#scatter plot Latitute vs Humidity  \n",
    "plt.scatter(weather_df[\"Lat\"], weather_df[\"Humidity\"], color = \"skyblue\", edgecolor = \"black\")\n",
    "\n",
    "#setting labels\n",
    "plt.xlabel(\"Latitude\")\n",
    "plt.ylabel(\"Humidity\")\n",
    "\n",
    "#setting grid line\n",
    "plt.grid(linestyle = \"-\", linewidth = 1, alpha = 0.5)\n",
    "\n",
    "#titling \n",
    "plt.title = (\"City Latitude vs. Humidity\")\n",
    "\n",
    "#saving the image\n",
    "plt.savefig(\"../python_api_challenge/Latitude vs Humidity.png\")"
   ]
  },
  {
   "cell_type": "markdown",
   "metadata": {},
   "source": [
    "## Latitude vs. Cloudiness Plot"
   ]
  },
  {
   "cell_type": "code",
   "execution_count": 43,
   "metadata": {},
   "outputs": [
    {
     "data": {
      "image/png": "[encoded data removed]",
      "text/plain": [
       "<Figure size 432x288 with 1 Axes>"
      ]
     },
     "metadata": {
      "needs_background": "light"
     },
     "output_type": "display_data"
    }
   ],
   "source": [
    "#scatter plot Latitute vs Cloudiness  \n",
    "plt.scatter(weather_df[\"Lat\"], weather_df[\"Clouds\"], color = \"skyblue\", edgecolor = \"black\")\n",
    "\n",
    "#setting labels\n",
    "plt.xlabel(\"Latitude\")\n",
    "plt.ylabel(\"Clouds\")\n",
    "\n",
    "#setting grid line\n",
    "plt.grid(linestyle = \"-\", linewidth = 1, alpha = 0.5)\n",
    "\n",
    "#titling \n",
    "plt.title = (\"City Latitude vs. Cloudiness\")\n",
    "\n",
    "#saving the image\n",
    "plt.savefig(\"../python_api_challenge/Latitude vs Cloudiness.png\")"
   ]
  },
  {
   "cell_type": "markdown",
   "metadata": {},
   "source": [
    "## Latitude vs. Wind Speed Plot"
   ]
  },
  {
   "cell_type": "code",
   "execution_count": 44,
   "metadata": {},
   "outputs": [
    {
     "data": {
      "image/png": "[encoded data removed]",
      "text/plain": [
       "<Figure size 432x288 with 1 Axes>"
      ]
     },
     "metadata": {
      "needs_background": "light"
     },
     "output_type": "display_data"
    }
   ],
   "source": [
    "#scatter plot Latitute vs Wind Speed  \n",
    "plt.scatter(weather_df[\"Lat\"], weather_df[\"Wind Speed\"], color = \"skyblue\", edgecolor = \"black\")\n",
    "\n",
    "#setting labels\n",
    "plt.xlabel(\"Latitude\")\n",
    "plt.ylabel(\"Wind Speed\")\n",
    "\n",
    "#setting grid line\n",
    "plt.grid(linestyle = \"-\", linewidth = 1, alpha = 0.5)\n",
    "\n",
    "#titling \n",
    "plt.title = (\"City Latitude vs. Wind Speed\")\n",
    "\n",
    "#saving the image\n",
    "plt.savefig(\"../python_api_challenge/Latitude vs Wind Speed.png\")"
   ]
  },
  {
   "cell_type": "markdown",
   "metadata": {},
   "source": [
    "## Linear Regression"
   ]
  },
  {
   "cell_type": "code",
   "execution_count": 45,
   "metadata": {},
   "outputs": [],
   "source": [
    "#creating Northern and Southern Hemisphere DFs\n",
    "north_hemis = weather_df.loc[weather_df[\"Lat\"] >= 0]\n",
    "south_hemis = weather_df.loc[weather_df[\"Lat\"] < 0]\n",
    "\n",
    "#defining the function to create linear agression and scatter plot\n",
    "def linear_agression(x,y):\n",
    "    print(f\"The r-squared is : {round(st.pearsonr(x, y)[0],2)}\")\n",
    "    (slope, intercept, rvalue, pvalue, stderr) = linregress(x, y)\n",
    "    regress_values = x * slope + intercept\n",
    "    line_eq = \"y = \" + str(round(slope,2)) + \"x + \" + str(round(intercept,2))\n",
    "    plt.scatter(x, y)\n",
    "    plt.plot(x,regress_values, \"r-\")\n",
    "    return line_eq\n",
    "\n",
    "#defining the function to annotate\n",
    "def annotate(line_eq, a,b):\n",
    "    plt.annotate(line_eq,(a,b), fontsize=10, color=\"red\")\n",
    "    "
   ]
  },
  {
   "cell_type": "markdown",
   "metadata": {},
   "source": [
    "####  Northern Hemisphere - Max Temp vs. Latitude Linear Regression"
   ]
  },
  {
   "cell_type": "code",
   "execution_count": 68,
   "metadata": {},
   "outputs": [
    {
     "name": "stdout",
     "output_type": "stream",
     "text": [
      "The r-squared is : -0.9\n",
      "Very strong negative correlation\n"
     ]
    },
    {
     "data": {
      "image/png": "[encoded data removed]",
      "text/plain": [
       "<Figure size 432x288 with 1 Axes>"
      ]
     },
     "metadata": {
      "needs_background": "light"
     },
     "output_type": "display_data"
    }
   ],
   "source": [
    "#generating a plot of Max Temp vs Latitude Linear Regression \n",
    "equation = linear_agression(north_hemis[\"Lat\"], north_hemis[\"Max Temp\"])\n",
    "annotate(equation, 0 ,0)\n",
    "\n",
    "#titling\n",
    "plt.title = (\"Northern Hemisphere - Max Temp vs. Latitude Linear Regression\")\n",
    "\n",
    "#setting labels\n",
    "plt.xlabel(\"Latitude\")\n",
    "plt.ylabel(\"Max Temperature (F)\")\n",
    "\n",
    "#saving the image\n",
    "plt.savefig(\"../python_api_challenge/Northern Hemisphere - Max Temperature vs. Latitude Linear Regression.png\")\n",
    "\n",
    "#commenting \n",
    "print(\"Very strong negative correlation\")"
   ]
  },
  {
   "cell_type": "markdown",
   "metadata": {},
   "source": [
    "####  Southern Hemisphere - Max Temp vs. Latitude Linear Regression"
   ]
  },
  {
   "cell_type": "code",
   "execution_count": 67,
   "metadata": {},
   "outputs": [
    {
     "name": "stdout",
     "output_type": "stream",
     "text": [
      "The r-squared is : 0.66\n",
      "Strong positive correlation\n"
     ]
    },
    {
     "data": {
      "image/png": "[encoded data removed]",
      "text/plain": [
       "<Figure size 432x288 with 1 Axes>"
      ]
     },
     "metadata": {
      "needs_background": "light"
     },
     "output_type": "display_data"
    }
   ],
   "source": [
    "#generating a plot of Max Temp vs Latitude Linear Regression \n",
    "equation = linear_agression(south_hemis[\"Lat\"], south_hemis[\"Max Temp\"])\n",
    "annotate(equation, -30 , 60)\n",
    "\n",
    "#titling\n",
    "plt.title = (\"Southern Hemisphere - Max Temp vs. Latitude Linear Regression\")\n",
    "\n",
    "#setting labels\n",
    "plt.xlabel(\"Latitude\")\n",
    "plt.ylabel(\"Max Temperature (F)\")\n",
    "\n",
    "#saving the image\n",
    "plt.savefig(\"../python_api_challenge/Southern Hemisphere - Max Temperature vs. Latitude Linear Regression.png\")\n",
    "\n",
    "#commenting \n",
    "print(\"Strong positive correlation\")"
   ]
  },
  {
   "cell_type": "markdown",
   "metadata": {},
   "source": [
    "####  Northern Hemisphere - Humidity (%) vs. Latitude Linear Regression"
   ]
  },
  {
   "cell_type": "code",
   "execution_count": 69,
   "metadata": {},
   "outputs": [
    {
     "name": "stdout",
     "output_type": "stream",
     "text": [
      "The r-squared is : 0.38\n",
      "Weak positive correlation\n"
     ]
    },
    {
     "data": {
      "image/png": "[encoded data removed]",
      "text/plain": [
       "<Figure size 432x288 with 1 Axes>"
      ]
     },
     "metadata": {
      "needs_background": "light"
     },
     "output_type": "display_data"
    }
   ],
   "source": [
    "#generating a plot of Max Temp vs Latitude Linear Regression \n",
    "equation = linear_agression(north_hemis[\"Lat\"], north_hemis[\"Humidity\"])\n",
    "annotate(equation, 40 , 20)\n",
    "\n",
    "#titling\n",
    "plt.title = (\"Northern Hemisphere - Humidity (%) vs. Latitude Linear Regression\")\n",
    "\n",
    "#setting labels\n",
    "plt.xlabel(\"Latitude\")\n",
    "plt.ylabel(\"Humidity (%)\")\n",
    "\n",
    "#saving the image\n",
    "plt.savefig(\"../python_api_challenge/Northern Hemisphere - Humidity (%) vs. Latitude Linear Regression.png\")\n",
    "\n",
    "#commenting \n",
    "print(\"Weak positive correlation\")"
   ]
  },
  {
   "cell_type": "markdown",
   "metadata": {},
   "source": [
    "####  Southern Hemisphere - Humidity (%) vs. Latitude Linear Regression"
   ]
  },
  {
   "cell_type": "code",
   "execution_count": 70,
   "metadata": {},
   "outputs": [
    {
     "name": "stdout",
     "output_type": "stream",
     "text": [
      "The r-squared is : 0.09\n",
      "Very weak positive correlation\n"
     ]
    },
    {
     "data": {
      "image/png": "[encoded data removed]",
      "text/plain": [
       "<Figure size 432x288 with 1 Axes>"
      ]
     },
     "metadata": {
      "needs_background": "light"
     },
     "output_type": "display_data"
    }
   ],
   "source": [
    "#generating a plot of Max Temp vs Latitude Linear Regression \n",
    "equation = linear_agression(south_hemis[\"Lat\"], south_hemis[\"Humidity\"])\n",
    "annotate(equation, -30 , 40)\n",
    "\n",
    "#titling\n",
    "plt.title = (\"Southern Hemisphere - Humidity (%) vs. Latitude Linear Regression\")\n",
    "\n",
    "#setting labels\n",
    "plt.xlabel(\"Latitude\")\n",
    "plt.ylabel(\"Humidity (%)\")\n",
    "\n",
    "#saving the image\n",
    "plt.savefig(\"../python_api_challenge/Southern Hemisphere - Humidity (%) vs. Latitude Linear Regression.png\")\n",
    "\n",
    "#commenting \n",
    "print(\"Very weak positive correlation\")"
   ]
  },
  {
   "cell_type": "markdown",
   "metadata": {},
   "source": [
    "####  Northern Hemisphere - Cloudiness (%) vs. Latitude Linear Regression"
   ]
  },
  {
   "cell_type": "code",
   "execution_count": 71,
   "metadata": {},
   "outputs": [
    {
     "name": "stdout",
     "output_type": "stream",
     "text": [
      "The r-squared is : 0.23\n",
      "Weak positive correlation\n"
     ]
    },
    {
     "data": {
      "image/png": "[encoded data removed]",
      "text/plain": [
       "<Figure size 432x288 with 1 Axes>"
      ]
     },
     "metadata": {
      "needs_background": "light"
     },
     "output_type": "display_data"
    }
   ],
   "source": [
    "#generating a plot of Max Temp vs Latitude Linear Regression \n",
    "equation = linear_agression(north_hemis[\"Lat\"], north_hemis[\"Clouds\"])\n",
    "annotate(equation, 0 , 60)\n",
    "\n",
    "#titling\n",
    "plt.title = (\"Northern Hemisphere - Cloudiness (%) vs. Latitude Linear Regression\")\n",
    "\n",
    "#setting labels\n",
    "plt.xlabel(\"Latitude\")\n",
    "plt.ylabel(\"Cloudiness (%)\")\n",
    "\n",
    "#saving the image\n",
    "plt.savefig(\"../python_api_challenge/Northern Hemisphere - Cloudiness (%) vs. Latitude Linear Regression.png\")\n",
    "\n",
    "#commenting \n",
    "print(\"Weak positive correlation\")"
   ]
  },
  {
   "cell_type": "markdown",
   "metadata": {},
   "source": [
    "####  Southern Hemisphere - Cloudiness (%) vs. Latitude Linear Regression"
   ]
  },
  {
   "cell_type": "code",
   "execution_count": 72,
   "metadata": {},
   "outputs": [
    {
     "name": "stdout",
     "output_type": "stream",
     "text": [
      "The r-squared is : 0.22\n",
      "Weak positive correlation\n"
     ]
    },
    {
     "data": {
      "image/png": "[encoded data removed]",
      "text/plain": [
       "<Figure size 432x288 with 1 Axes>"
      ]
     },
     "metadata": {
      "needs_background": "light"
     },
     "output_type": "display_data"
    }
   ],
   "source": [
    "#generating a plot of Max Temp vs Latitude Linear Regression \n",
    "equation = linear_agression(south_hemis[\"Lat\"], south_hemis[\"Clouds\"])\n",
    "annotate(equation, -20, 0)\n",
    "\n",
    "#titling\n",
    "plt.title = (\"Southern Hemisphere - Cloudiness (%) vs. Latitude Linear Regression\")\n",
    "\n",
    "#setting labels\n",
    "plt.xlabel(\"Latitude\")\n",
    "plt.ylabel(\"Cloudiness (%)\")\n",
    "\n",
    "#saving the image\n",
    "plt.savefig(\"../python_api_challenge/Southern Hemisphere - Cloudiness (%) vs. Latitude Linear Regression.png\")\n",
    "\n",
    "#commenting \n",
    "print(\"Weak positive correlation\")"
   ]
  },
  {
   "cell_type": "markdown",
   "metadata": {},
   "source": [
    "####  Northern Hemisphere - Wind Speed (mph) vs. Latitude Linear Regression"
   ]
  },
  {
   "cell_type": "code",
   "execution_count": 79,
   "metadata": {},
   "outputs": [
    {
     "name": "stdout",
     "output_type": "stream",
     "text": [
      "The r-squared is : 0.09\n",
      "Very weak positive correlation\n"
     ]
    },
    {
     "data": {
      "image/png": "[encoded data removed]",
      "text/plain": [
       "<Figure size 432x288 with 1 Axes>"
      ]
     },
     "metadata": {
      "needs_background": "light"
     },
     "output_type": "display_data"
    }
   ],
   "source": [
    "#generating a plot of Max Temp vs Latitude Linear Regression \n",
    "equation = linear_agression(north_hemis[\"Lat\"], north_hemis[\"Wind Speed\"])\n",
    "annotate(equation, 10 , 25)\n",
    "\n",
    "#titling\n",
    "plt.title = (\"Northern Hemisphere - Wind Speed (mph) vs. Latitude Linear Regression\")\n",
    "\n",
    "#setting labels\n",
    "plt.xlabel(\"Latitude\")\n",
    "plt.ylabel(\"Wind Speed (mph)\")\n",
    "\n",
    "#saving the image\n",
    "plt.savefig(\"../python_api_challenge/Northern Hemisphere - Wind Speed (mph vs. Latitude Linear Regression.png\")\n",
    "\n",
    "#commenting \n",
    "print(\"Very weak positive correlation\")"
   ]
  },
  {
   "cell_type": "markdown",
   "metadata": {},
   "source": [
    "####  Southern Hemisphere - Wind Speed (mph) vs. Latitude Linear Regression"
   ]
  },
  {
   "cell_type": "code",
   "execution_count": 81,
   "metadata": {},
   "outputs": [
    {
     "name": "stdout",
     "output_type": "stream",
     "text": [
      "The r-squared is : -0.25\n",
      "Weak negative correlation\n"
     ]
    },
    {
     "data": {
      "image/png": "[encoded data removed]",
      "text/plain": [
       "<Figure size 432x288 with 1 Axes>"
      ]
     },
     "metadata": {
      "needs_background": "light"
     },
     "output_type": "display_data"
    }
   ],
   "source": [
    "#generating a plot of Max Temp vs Latitude Linear Regression \n",
    "equation = linear_agression(south_hemis[\"Lat\"], south_hemis[\"Wind Speed\"])\n",
    "annotate(equation, -40, 30)\n",
    "\n",
    "#titling\n",
    "plt.title = (\"Southern Hemisphere - Wind Speed (mph) vs. Latitude Linear Regression\")\n",
    "\n",
    "#setting labels\n",
    "plt.xlabel(\"Latitude\")\n",
    "plt.ylabel(\"Wind Speed (mph)\")\n",
    "\n",
    "#saving the image\n",
    "plt.savefig(\"../python_api_challenge/Southern Hemisphere - Wind Speed (mph vs. Latitude Linear Regression.png\")\n",
    "\n",
    "#commenting \n",
    "print(\"Weak negative correlation\")"
   ]
  },
  {
   "cell_type": "code",
   "execution_count": null,
   "metadata": {},
   "outputs": [],
   "source": []
  }
 ],
 "metadata": {
  "anaconda-cloud": {},
  "kernel_info": {
   "name": "python3"
  },
  "kernelspec": {
   "display_name": "Python [conda env:PythonData]",
   "language": "python",
   "name": "conda-env-PythonData-py"
  },
  "language_info": {
   "codemirror_mode": {
    "name": "ipython",
    "version": 3
   },
   "file_extension": ".py",
   "mimetype": "text/x-python",
   "name": "python",
   "nbconvert_exporter": "python",
   "pygments_lexer": "ipython3",
   "version": "3.6.10"
  },
  "latex_envs": {
   "LaTeX_envs_menu_present": true,
   "autoclose": false,
   "autocomplete": true,
   "bibliofile": "biblio.bib",
   "cite_by": "apalike",
   "current_citInitial": 1,
   "eqLabelWithNumbers": true,
   "eqNumInitial": 1,
   "hotkeys": {
    "equation": "Ctrl-E",
    "itemize": "Ctrl-I"
   },
   "labels_anchors": false,
   "latex_user_defs": false,
   "report_style_numbering": false,
   "user_envs_cfg": false
  },
  "nteract": {
   "version": "0.12.3"
  }
 },
 "nbformat": 4,
 "nbformat_minor": 2
}
